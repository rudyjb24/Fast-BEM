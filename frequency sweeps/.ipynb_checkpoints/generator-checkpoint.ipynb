{
 "cells": [
  {
   "cell_type": "code",
   "execution_count": null,
   "id": "36fc7125-5699-4f19-9b19-80a5736c4f72",
   "metadata": {},
   "outputs": [],
   "source": [
    "import sys\n",
    "sys.path.append(\"../\")\n",
    "from packages.plotter import *\n",
    "from packages.physicalObjects.physicalValues import *\n",
    "from packages.BEMPP.singleTraceManager import SingleTraceManager"
   ]
  },
  {
   "cell_type": "code",
   "execution_count": null,
   "id": "e409f1cd-6fc3-4e6c-86bf-e9b266b4aefc",
   "metadata": {},
   "outputs": [],
   "source": [
    "# Parameters:\n",
    "radius = 0.0001 # in meters\n",
    "scatteringPoint = np.array([[3*radius], [0], [0]])\n",
    "spacingMultiplier = 8 # distance between centers = spacingMultiplier * radius\n",
    "L = radius*spacingMultiplier\n",
    "wavenumberRange = (130, 160)\n",
    "numberOfPoints = 10\n",
    "numberOfBubblesPerSide = 2\n",
    "hFactor = 1/6"
   ]
  },
  {
   "cell_type": "code",
   "execution_count": null,
   "id": "c32649fe-4fc4-4182-a542-293a7c8add6f",
   "metadata": {},
   "outputs": [],
   "source": [
    "def execute():\n",
    "    manager = SingleTraceManager(formulationType=2, logs=True)\n",
    "    # 0 = Dirichlet Formulation\n",
    "    # 1 = Neumann Formulation\n",
    "    # 2 = PMCHWT Formulation -> only one that is accelerated\n",
    "    # 3 = Muller Formulation\n",
    "    \n",
    "    \n",
    "    initialYCoordinate = 0 - L*(numberOfBubblesPerSide-1)/2 \n",
    "    initialZCoordinate = 0 - L*(numberOfBubblesPerSide-1)/2\n",
    "    for i in range(numberOfBubblesPerSide):\n",
    "        for j in range(numberOfBubblesPerSide):\n",
    "            yCoordinate = initialYCoordinate + i*L\n",
    "            zCoordinate = initialZCoordinate + j*L\n",
    "            manager.setNewBubble(center=(0,yCoordinate,zCoordinate), size=radius, h=hFactor*radius, intCoordinates=(0,i,j))\n",
    "            \n",
    "    manager.calculateFieldsFromMultipleFrequencies(scatteringPoint, wavenumberRange=wavenumberRange, numberOfPoints=numberOfPoints, spacing_multiplier=spacingMultiplier)\n",
    "    return manager"
   ]
  },
  {
   "cell_type": "code",
   "execution_count": null,
   "id": "794272fe-6d56-4d5e-b42e-1056e9e8fbf3",
   "metadata": {},
   "outputs": [],
   "source": [
    "manager = execute()"
   ]
  },
  {
   "cell_type": "code",
   "execution_count": null,
   "id": "3f55e0cd-68af-4d83-bc35-3ae346b8daa6",
   "metadata": {},
   "outputs": [],
   "source": [
    "bubble = manager.bubbles[0]"
   ]
  },
  {
   "cell_type": "code",
   "execution_count": null,
   "id": "f3c33ac5-09bd-46e5-8568-ff60ab62c354",
   "metadata": {},
   "outputs": [],
   "source": [
    "bubble.grid.elements.shape[1]"
   ]
  },
  {
   "cell_type": "code",
   "execution_count": null,
   "id": "874df63c-1453-48ae-b2ec-bb9a44dca40e",
   "metadata": {},
   "outputs": [],
   "source": [
    "bubble.grid.vertices.shape[1]"
   ]
  }
 ],
 "metadata": {
  "kernelspec": {
   "display_name": "Python 3 (ipykernel)",
   "language": "python",
   "name": "python3"
  },
  "language_info": {
   "codemirror_mode": {
    "name": "ipython",
    "version": 3
   },
   "file_extension": ".py",
   "mimetype": "text/x-python",
   "name": "python",
   "nbconvert_exporter": "python",
   "pygments_lexer": "ipython3",
   "version": "3.9.5"
  }
 },
 "nbformat": 4,
 "nbformat_minor": 5
}
