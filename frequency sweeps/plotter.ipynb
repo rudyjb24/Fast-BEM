{
 "cells": [
  {
   "cell_type": "code",
   "execution_count": null,
   "id": "664f3533-567c-4758-90d7-eade27c80242",
   "metadata": {},
   "outputs": [],
   "source": [
    "#pip install pandas"
   ]
  },
  {
   "cell_type": "code",
   "execution_count": null,
   "id": "61da3810-838f-4c98-9084-205a5e61b315",
   "metadata": {},
   "outputs": [],
   "source": [
    "#pip install seaborn"
   ]
  },
  {
   "cell_type": "code",
   "execution_count": null,
   "id": "7c86f173-e7b9-427b-8a82-68d5aca15e3d",
   "metadata": {},
   "outputs": [],
   "source": [
    "#pip install numpy==1.20.3"
   ]
  },
  {
   "cell_type": "code",
   "execution_count": null,
   "id": "be420d2b-8bf2-4cb6-85cf-f7cf0e33a34c",
   "metadata": {},
   "outputs": [],
   "source": [
    "import pickle\n",
    "import numpy as np\n",
    "import pandas as pd\n",
    "import seaborn as sns\n",
    "\n",
    "import sys\n",
    "sys.path.append(\"../\")\n",
    "from packages.plotter import *\n",
    "import warnings\n",
    "warnings.simplefilter(\"ignore\")"
   ]
  },
  {
   "cell_type": "code",
   "execution_count": null,
   "id": "80f81865-7f1c-41b8-bd5b-ad7682d8918c",
   "metadata": {},
   "outputs": [],
   "source": [
    "df_expanded = pd.read_pickle(\"pickles/spectrum_green_matrix.pkl\")\n",
    "radius = 0.0001\n",
    "fs = 16"
   ]
  },
  {
   "cell_type": "code",
   "execution_count": null,
   "id": "42e8e216-43d0-41ca-b220-52943e91c1cb",
   "metadata": {},
   "outputs": [],
   "source": [
    "def plot_configuration_sweep(multiplier, numberOfBubbles, scatter, xlims=None, ylims=None, title=None, single=False):\n",
    "    with open('pickles/L={}*radius/2${}'.format(multiplier, numberOfBubbles**2), 'rb') as file:\n",
    "        pickleDict = pickle.load(file)\n",
    "    \n",
    "    wavenumberSample = np.array(pickleDict['wavenumbers'])\n",
    "    print(len(set(wavenumberSample)))\n",
    "    kaSample = [k*radius for k in wavenumberSample]\n",
    "    totalFields = pickleDict['totalFields']\n",
    "    absoluteTotalFields, realTotalFields, imaginaryTotalFields = getAbsoluteRealImaginaryValues(totalFields)\n",
    "    absoluteTotalFields = [totalField for totalField in absoluteTotalFields]\n",
    "    \n",
    "    while kaSample[0] < 0.0027 or kaSample[-1] > 0.02:\n",
    "        for i in range(len(kaSample)):\n",
    "            if kaSample[i] < 0.0027 or kaSample[i] > 0.02:\n",
    "                kaSample.pop(i)\n",
    "                absoluteTotalFields.pop(i)\n",
    "                break\n",
    "    \n",
    "    fig = plt.figure(figsize=(15, 5))\n",
    "    sns.set_theme(style=\"darkgrid\")\n",
    "    ax = fig.add_subplot()\n",
    "    \n",
    "    relevant_df = df_expanded[(df_expanded.distance == multiplier) & (df_expanded.configuration == numberOfBubbles) & (df_expanded.excitation_factor_normalized > 0.01)]\n",
    "    relevant_df.sort_values(\"excitation_factor_normalized\", ascending=False, inplace=True)\n",
    "        \n",
    "    if single:\n",
    "        minnaert = list(df_expanded.wavenumber)[0]\n",
    "        plt.axvline(x=minnaert, color=\"g\", linewidth=2, label=\"single bubble\")\n",
    "\n",
    "    wavenumbers = list(relevant_df.wavenumber_resonance)\n",
    "    exitation_factors = list(relevant_df.excitation_factor_normalized)\n",
    "    quality_factors = list(df_expanded.qfactor_resonance)\n",
    "    \n",
    "    label = True\n",
    "    for i in range(len(wavenumbers)):\n",
    "        k = wavenumbers[i]\n",
    "        exitation_factor = exitation_factors[i]\n",
    "        quality_factor = quality_factors[i]\n",
    "        \n",
    "        print(round(k,5), round(k/radius))\n",
    "        if exitation_factor < 0.2:\n",
    "            width = 0.3\n",
    "        elif exitation_factor < 0.4:\n",
    "            width = 1\n",
    "        elif exitation_factor < 0.6:\n",
    "            width = 1.7\n",
    "        elif exitation_factor < 0.8:\n",
    "            width = 2.4\n",
    "        else:\n",
    "            width = 3.1\n",
    "            \n",
    "        if label and not scatter:\n",
    "            plt.axvline(x=k, color=\"k\", linewidth=width, label=\"resonance mode\\n(mass-spring)\")\n",
    "            label = False\n",
    "        elif not label and not scatter:\n",
    "            plt.axvline(x=k, color=\"k\", linewidth=width)\n",
    "    \n",
    "    if scatter:\n",
    "        plt.scatter(kaSample, absoluteTotalFields, color=\"C4\")\n",
    "    \n",
    "    plt.plot(kaSample, absoluteTotalFields,\n",
    "             linewidth=3,\n",
    "             color=\"C4\", label=\"acoustic field\\n(BEM)\")\n",
    "\n",
    "    plt.legend(loc='upper right', fontsize=fs)\n",
    "\n",
    "    if xlims is None:\n",
    "        plt.xlim((0.0019,0.0205))\n",
    "    else:\n",
    "        plt.xlim(xlims)\n",
    "    if xlims is None:\n",
    "        plt.ylim((None,None))\n",
    "    else:\n",
    "        plt.ylim(ylims)\n",
    "    ax.set_xlabel(\"nondimensional wavenumber\")\n",
    "    ax.set_ylabel(\"acoustic pressure\")\n",
    "    \n",
    "    for item in ([ax.title, ax.xaxis.label, ax.yaxis.label] +\n",
    "             ax.get_xticklabels() + ax.get_yticklabels()):\n",
    "        item.set_fontsize(fs)\n",
    "\n",
    "    if title is not None:\n",
    "        if not isinstance(title, str):\n",
    "            title = str(numberOfBubbles)+\" x \"+str(numberOfBubbles)+\" array\\nbubble separation: \"+str(multiplier)\n",
    "        ax.annotate(title,\n",
    "                    xy=(0.072, 0.795), xycoords='figure fraction',\n",
    "                    bbox=dict(boxstyle=\"square\", facecolor=\"0.8\", edgecolor='k'),\n",
    "                    fontsize=fs,\n",
    "                   )\n",
    "\n",
    "    plt.savefig('sweep_'+str(multiplier)+'_'+str(numberOfBubbles)+'.pdf', bbox_inches='tight')"
   ]
  },
  {
   "cell_type": "markdown",
   "id": "46211b19",
   "metadata": {},
   "source": [
    "The following cell visualizes the frequency response of a rectangular bubble array. First, the acoustic response needs to be simulated with the `generator.ipynb` notebook. Specify the number of bubbles per side (`numberOfBubbles`) and the bubble separation (`multiplier`)."
   ]
  },
  {
   "cell_type": "code",
   "execution_count": null,
   "id": "f428e744-bdc5-4c9f-b813-80054d20f509",
   "metadata": {},
   "outputs": [],
   "source": [
    "plot_configuration_sweep(multiplier=8, numberOfBubbles=10, scatter=False, xlims=(0.0035, 0.0175), ylims=(0,None), title=True, single=True)"
   ]
  }
 ],
 "metadata": {
  "kernelspec": {
   "display_name": "Python 3 (ipykernel)",
   "language": "python",
   "name": "python3"
  },
  "language_info": {
   "codemirror_mode": {
    "name": "ipython",
    "version": 3
   },
   "file_extension": ".py",
   "mimetype": "text/x-python",
   "name": "python",
   "nbconvert_exporter": "python",
   "pygments_lexer": "ipython3",
   "version": "3.9.15"
  }
 },
 "nbformat": 4,
 "nbformat_minor": 5
}
