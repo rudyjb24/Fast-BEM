{
 "cells": [
  {
   "cell_type": "code",
   "execution_count": null,
   "id": "36fc7125-5699-4f19-9b19-80a5736c4f72",
   "metadata": {},
   "outputs": [],
   "source": [
    "import sys\n",
    "sys.path.append(\"../\")\n",
    "from packages.plotter import *\n",
    "from packages.physicalObjects.physicalValues import *\n",
    "from packages.BEMPP.singleTraceManager import SingleTraceManager"
   ]
  },
  {
   "cell_type": "markdown",
   "id": "84725892",
   "metadata": {},
   "source": [
    "Specify the parameters of the acoustic simulation:\n",
    " 1. `radius`: the radius of the bubble, in meter\n",
    " 1. `scatteringPoint`: the location to evaluate the acoustic field\n",
    " 1. `spacingMultiplier`: the bubble separation, in bubble radii between bubble centers\n",
    " 1. `frequencyRange`: the range of frequency values, in Hertz\n",
    " 1. `numberOfPoints`: number of points in the frequency sweep\n",
    " 1. `numberOfBubblesPerSide`: number of bubbles $n$ in the $n \\times n$ array\n",
    " 1. `hFactor`: the width of the mesh elements, as a proportion of the bubble radius\n",
    " \n",
    "The square array of $n \\times n$ bubbles is located in the plane $x=0$ and centered in the global origin. All bubbles have the same radius. The surface of each bubble is meshed with a triangular grid."
   ]
  },
  {
   "cell_type": "code",
   "execution_count": null,
   "id": "e409f1cd-6fc3-4e6c-86bf-e9b266b4aefc",
   "metadata": {},
   "outputs": [],
   "source": [
    "# Parameters:\n",
    "radius = 0.0001 # in meters\n",
    "scatteringPoint = np.array([[3*radius], [0], [0]])\n",
    "spacingMultiplier = 8 # distance between centers = spacingMultiplier * radius\n",
    "L = radius*spacingMultiplier\n",
    "frequencyRange = (130, 160)\n",
    "numberOfPoints = 10\n",
    "numberOfBubblesPerSide = 2\n",
    "hFactor = 1/6"
   ]
  },
  {
   "cell_type": "code",
   "execution_count": null,
   "id": "c32649fe-4fc4-4182-a542-293a7c8add6f",
   "metadata": {},
   "outputs": [],
   "source": [
    "def execute():\n",
    "    manager = SingleTraceManager(formulationType=2, logs=True)\n",
    "    # 0 = Dirichlet Formulation\n",
    "    # 1 = Neumann Formulation\n",
    "    # 2 = PMCHWT Formulation -> only one that is accelerated\n",
    "    # 3 = Muller Formulation\n",
    "    \n",
    "    \n",
    "    initialYCoordinate = 0 - L*(numberOfBubblesPerSide-1)/2 \n",
    "    initialZCoordinate = 0 - L*(numberOfBubblesPerSide-1)/2\n",
    "    for i in range(numberOfBubblesPerSide):\n",
    "        for j in range(numberOfBubblesPerSide):\n",
    "            yCoordinate = initialYCoordinate + i*L\n",
    "            zCoordinate = initialZCoordinate + j*L\n",
    "            manager.setNewBubble(center=(0,yCoordinate,zCoordinate), size=radius, h=hFactor*radius, intCoordinates=(0,i,j))\n",
    "            \n",
    "    manager.calculateFieldsFromMultipleFrequencies(scatteringPoint, wavenumberRange=frequencyRange, numberOfPoints=numberOfPoints, spacing_multiplier=spacingMultiplier)\n",
    "    return manager"
   ]
  },
  {
   "cell_type": "markdown",
   "id": "0e0056e5",
   "metadata": {},
   "source": [
    "The following cell executes the fast BEM algorithm. By default, the accelerated PMCHWT formulation is used. The results are stored in the folder `pickles` and can be visualized with `plotter.ipynb`. The results of new simulations for the same configuration are added to this database."
   ]
  },
  {
   "cell_type": "code",
   "execution_count": null,
   "id": "794272fe-6d56-4d5e-b42e-1056e9e8fbf3",
   "metadata": {},
   "outputs": [],
   "source": [
    "manager = execute()"
   ]
  }
 ],
 "metadata": {
  "kernelspec": {
   "display_name": "Python 3 (ipykernel)",
   "language": "python",
   "name": "python3"
  },
  "language_info": {
   "codemirror_mode": {
    "name": "ipython",
    "version": 3
   },
   "file_extension": ".py",
   "mimetype": "text/x-python",
   "name": "python",
   "nbconvert_exporter": "python",
   "pygments_lexer": "ipython3",
   "version": "3.9.15"
  }
 },
 "nbformat": 4,
 "nbformat_minor": 5
}
