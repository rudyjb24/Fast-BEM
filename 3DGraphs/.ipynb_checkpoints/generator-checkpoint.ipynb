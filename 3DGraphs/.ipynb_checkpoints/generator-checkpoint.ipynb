{
 "cells": [
  {
   "cell_type": "code",
   "execution_count": null,
   "id": "b9cd5a88-4eba-4dad-a24a-1fe1c54989a4",
   "metadata": {},
   "outputs": [],
   "source": [
    "#pip install numpy==1.20.0"
   ]
  },
  {
   "cell_type": "code",
   "execution_count": null,
   "id": "4b86fc3d-d616-4f3b-b110-50733a675d0b",
   "metadata": {},
   "outputs": [],
   "source": [
    "import sys\n",
    "sys.path.append(\"../\")\n",
    "from packages.plotter import *\n",
    "from packages.physicalObjects.physicalValues import *\n",
    "from packages.BEMPP.singleTraceManager import SingleTraceManager"
   ]
  },
  {
   "cell_type": "code",
   "execution_count": null,
   "id": "91c35500-d96e-408b-b2f2-054587344fe2",
   "metadata": {},
   "outputs": [],
   "source": [
    "# Parameters:\n",
    "radius = 1 # in meters\n",
    "scatteringPoint = np.array([[3*radius], [0], [0]])\n",
    "spacingMultiplier = 8 # distance between centers = spacingMultiplier * radius\n",
    "L = radius*spacingMultiplier\n",
    "wavenumberRange = (130, 160)\n",
    "numberOfPoints = 10\n",
    "numberOfBubblesPerSide = 10\n",
    "hFactor = 1/6"
   ]
  },
  {
   "cell_type": "code",
   "execution_count": null,
   "id": "9194ba66-835f-4e2a-92f9-fb2fd691e4b2",
   "metadata": {},
   "outputs": [],
   "source": [
    "manager = SingleTraceManager(formulationType=2, logs=True)\n",
    "    # 0 = Dirichlet Formulation\n",
    "    # 1 = Neumann Formulation\n",
    "    # 2 = PMCHWT Formulation\n",
    "    # 3 = Muller Formulation\n",
    "    \n",
    "initialYCoordinate = 0 - L*(numberOfBubblesPerSide-1)/2 \n",
    "initialZCoordinate = 0 - L*(numberOfBubblesPerSide-1)/2\n",
    "for i in range(numberOfBubblesPerSide):\n",
    "    for j in range(numberOfBubblesPerSide):\n",
    "        yCoordinate = initialYCoordinate + i*L\n",
    "        zCoordinate = initialZCoordinate + j*L\n",
    "        manager.setNewBubble(center=(0,yCoordinate,zCoordinate), size=radius, h=hFactor*radius, intCoordinates=(0,i,j))"
   ]
  },
  {
   "cell_type": "code",
   "execution_count": null,
   "id": "9f92c0f1-fe2c-44fe-861d-19da5fdd95fe",
   "metadata": {},
   "outputs": [],
   "source": [
    "plotRange = 45\n",
    "numberOfPointsPerAxis = 325\n",
    "xCoords = np.linspace(-plotRange, plotRange, numberOfPointsPerAxis)\n",
    "yCoords = np.linspace(-plotRange, plotRange, numberOfPointsPerAxis)\n",
    "\n",
    "pointsDistribution = [numberOfPointsPerAxis, numberOfPointsPerAxis]\n",
    "xMin, xMax, yMin, yMax = [-plotRange, plotRange, -plotRange, plotRange]\n",
    "plotGrid = np.mgrid[xMin:xMax:numberOfPointsPerAxis * 1j, yMin:yMax:numberOfPointsPerAxis * 1j]\n",
    "points = np.vstack((plotGrid[0].ravel(), plotGrid[1].ravel(), np.zeros(plotGrid[0].size)))"
   ]
  },
  {
   "cell_type": "code",
   "execution_count": null,
   "id": "67d30f93-649d-4b5d-ae52-ce208f91e04e",
   "metadata": {},
   "outputs": [],
   "source": [
    "t0 = tm.time()\n",
    "\n",
    "ka = 0.006755\n",
    "frequency = ka * v / (2*pi)\n",
    "\n",
    "\n",
    "incidentField, scatteredField, totalField = manager.calculateSpatialFields(frequency, points, pointsDistribution, spacing_multiplier)\n",
    "\n",
    "absoluteIncidentField, realIncidentField, imaginaryIncidentField = getAbsoluteRealImaginaryValues(incidentField)\n",
    "absoluteScatteredField, realScatteredField, imaginaryScatteredField =  getAbsoluteRealImaginaryValues(scatteredField)\n",
    "absoluteTotalField, realTotalField, imaginaryTotalField = getAbsoluteRealImaginaryValues(totalField)\n",
    "\n",
    "t1 = tm.time()\n",
    "print(\"Tiempo de ejecucion {}min\".format(round(((t1-t0)/60), 2)))"
   ]
  },
  {
   "cell_type": "code",
   "execution_count": null,
   "id": "91f747b9-b61c-4b3c-a517-9c2de5d1394f",
   "metadata": {},
   "outputs": [],
   "source": [
    "maxValue = 5\n",
    "absolute = absoluteTotalField\n",
    "#real = realTotalField\n",
    "#imaginary = imaginaryTotalField\n",
    "fieldType = \"total\""
   ]
  },
  {
   "cell_type": "code",
   "execution_count": null,
   "id": "32ac2a7a-6679-48dd-8fb6-613cdf7e62a0",
   "metadata": {},
   "outputs": [],
   "source": [
    "minValue = 0\n",
    "colorType = \"magma\"\n",
    "\n",
    "fig, axes = plt.subplots(1, 1, figsize=(5, 5))\n",
    "\n",
    "im = axes.imshow(\n",
    "    absolute.T,\n",
    "    cmap=colorType,\n",
    "    vmin=minValue,\n",
    "    vmax=maxValue,\n",
    "    extent=[-plotRange, plotRange, -plotRange, plotRange],\n",
    ")\n",
    "#axes.title.set_text(\"Magnitude of {} pressure\".format(fieldType))\n",
    "axes.set_xlabel(\"z axis\")\n",
    "axes.set_ylabel(\"y axis\")\n",
    "\n",
    "\n",
    "cbar_ax = fig.add_axes([0.95, 0.15, 0.05, 0.7])\n",
    "fig.colorbar(im, cax=cbar_ax)\n",
    "#fig.suptitle(\"{} pressure (x=0)\".format(fieldType), fontsize=16)\n",
    "plt.savefig('test.pdf', bbox_inches='tight')\n",
    "plt.show()"
   ]
  }
 ],
 "metadata": {
  "kernelspec": {
   "display_name": "Python 3 (ipykernel)",
   "language": "python",
   "name": "python3"
  },
  "language_info": {
   "codemirror_mode": {
    "name": "ipython",
    "version": 3
   },
   "file_extension": ".py",
   "mimetype": "text/x-python",
   "name": "python",
   "nbconvert_exporter": "python",
   "pygments_lexer": "ipython3",
   "version": "3.9.5"
  }
 },
 "nbformat": 4,
 "nbformat_minor": 5
}
