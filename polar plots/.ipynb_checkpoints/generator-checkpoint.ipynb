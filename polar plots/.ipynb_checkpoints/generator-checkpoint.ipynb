{
 "cells": [
  {
   "cell_type": "code",
   "execution_count": null,
   "id": "f9e05d2c-a02a-44fc-a5e6-a81b6562c56b",
   "metadata": {},
   "outputs": [],
   "source": [
    "import sys\n",
    "import seaborn as sns\n",
    "sys.path.append(\"../\")\n",
    "from packages.plotter import *\n",
    "from packages.physicalObjects.physicalValues import *\n",
    "from packages.BEMPP.singleTraceManager import SingleTraceManager"
   ]
  },
  {
   "cell_type": "code",
   "execution_count": null,
   "id": "2d4d519a-32e3-4f91-8f4a-b6b8a8549fbd",
   "metadata": {},
   "outputs": [],
   "source": [
    "#pip install numpy==1.20.3"
   ]
  },
  {
   "cell_type": "code",
   "execution_count": null,
   "id": "209b036b-971d-4832-b2a9-1b684a2a4884",
   "metadata": {},
   "outputs": [],
   "source": [
    "#pip install seaborn"
   ]
  },
  {
   "cell_type": "code",
   "execution_count": null,
   "id": "f03ad825-95f0-40f4-9f69-c721947af436",
   "metadata": {},
   "outputs": [],
   "source": [
    "# Parameters:\n",
    "radius = 0.0001\n",
    "spacingMultiplier = 8\n",
    "L = radius * spacingMultiplier\n",
    "numberOfBubblesPerSide = 10\n",
    "hFactor = 1/6\n",
    "ka = 0.011261\n",
    "frequency = ((ka/radius) * 1480) / (2*pi)\n",
    "fs=12"
   ]
  },
  {
   "cell_type": "code",
   "execution_count": null,
   "id": "331f5a76-1f74-49cb-b12e-9bf9bba806b4",
   "metadata": {},
   "outputs": [],
   "source": [
    "manager = SingleTraceManager(formulationType=2, logs=True)\n",
    "# 0 = Dirichlet Formulation\n",
    "# 1 = Neumann Formulation\n",
    "# 2 = PMCHWT Formulation\n",
    "# 3 = Muller Formulation\n",
    "\n",
    "\n",
    "initialYCoordinate = 0 - L*(numberOfBubblesPerSide-1)/2 \n",
    "initialZCoordinate = 0 - L*(numberOfBubblesPerSide-1)/2\n",
    "for i in range(numberOfBubblesPerSide):\n",
    "    for j in range(numberOfBubblesPerSide):\n",
    "        yCoordinate = initialYCoordinate + i*L\n",
    "        zCoordinate = initialZCoordinate + j*L\n",
    "        manager.setNewBubble(center=(0,yCoordinate,zCoordinate), size=radius, h=hFactor*radius, intCoordinates=(0,i,j))"
   ]
  },
  {
   "cell_type": "code",
   "execution_count": null,
   "id": "09572f80-ee9d-44c3-bc6b-7a11216f7a8b",
   "metadata": {},
   "outputs": [],
   "source": [
    "manager.setCalculationParameters(frequency)"
   ]
  },
  {
   "cell_type": "code",
   "execution_count": null,
   "id": "f914b6eb-4fff-4a89-a14d-20ffe5499f61",
   "metadata": {},
   "outputs": [],
   "source": [
    "#Scattering points\n",
    "n = 100\n",
    "r = 5* L*(numberOfBubblesPerSide-1)\n",
    "omega_list = np.linspace(0, 2*pi, n)"
   ]
  },
  {
   "cell_type": "code",
   "execution_count": null,
   "id": "41403479-23c2-42b9-aeb1-632d5108de8a",
   "metadata": {},
   "outputs": [],
   "source": [
    "points1 = [np.array(([0], [r*np.sin(omega)], [r*np.cos(omega)])) for omega in omega_list]"
   ]
  },
  {
   "cell_type": "code",
   "execution_count": null,
   "id": "a1e68dc9-4b11-4271-975e-9caf9c3321d5",
   "metadata": {},
   "outputs": [],
   "source": [
    "scatteredFields1 = list()\n",
    "for point in points1:\n",
    "    incidentField, scatteredField, totalField = manager.evaluateExteriorFieldOn(point)\n",
    "    scatteredFields1.append(scatteredField)"
   ]
  },
  {
   "cell_type": "code",
   "execution_count": null,
   "id": "185dec29-1e5f-459f-b683-06a74b439f9b",
   "metadata": {},
   "outputs": [],
   "source": [
    "scatteredFields1 = [abs(x[0]) for x in scatteredFields1]\n",
    "scatteredFields1 = np.array(scatteredFields1)\n",
    "scatteredFields1 = scatteredFields1 * r"
   ]
  },
  {
   "cell_type": "code",
   "execution_count": null,
   "id": "88aa9a84-e44f-4e03-bb72-46f1b6c19eec",
   "metadata": {},
   "outputs": [],
   "source": [
    "points2 = [np.array(([r*np.sin(omega)], [r*np.cos(omega)], [0])) for omega in omega_list]"
   ]
  },
  {
   "cell_type": "code",
   "execution_count": null,
   "id": "2681acb0-8e3f-487f-be49-42d8b63ee5a2",
   "metadata": {},
   "outputs": [],
   "source": [
    "scatteredFields2 = list()\n",
    "\n",
    "for point in points2:\n",
    "    incidentField, scatteredField, totalField = manager.evaluateExteriorFieldOn(point)\n",
    "    scatteredFields2.append(scatteredField)"
   ]
  },
  {
   "cell_type": "code",
   "execution_count": null,
   "id": "b8c26257-ca20-4238-8512-9e2197d6932e",
   "metadata": {},
   "outputs": [],
   "source": [
    "scatteredFields2 = [abs(x[0]) for x in scatteredFields2]\n",
    "scatteredFields2 = np.array(scatteredFields2)\n",
    "scatteredFields2 = scatteredFields2 * r"
   ]
  },
  {
   "cell_type": "code",
   "execution_count": null,
   "id": "912943bc-ebc2-456a-9a86-d287e4f59433",
   "metadata": {},
   "outputs": [],
   "source": [
    "scatteredFields2 = np.array(scatteredFields2)"
   ]
  },
  {
   "cell_type": "code",
   "execution_count": null,
   "id": "4ac72b74-b1fd-444a-bf9a-9cececf0ba2a",
   "metadata": {},
   "outputs": [],
   "source": [
    "fig = plt.figure(figsize=(5,5))\n",
    "sns.set_theme(style=\"darkgrid\")\n",
    "ax = fig.add_subplot(projection='polar')\n",
    "\n",
    "ax.plot(omega_list, scatteredFields1,\n",
    "        linewidth=3, linestyle='-',\n",
    "        label='parallel',\n",
    "       )\n",
    "ax.plot(omega_list, scatteredFields2,\n",
    "        linewidth=2, linestyle='--',\n",
    "        label='perpendicular',\n",
    "       )\n",
    "\n",
    "ax.set_rlim([0, 0.02])\n",
    "ax.set_rticks([0.005, 0.01, 0.015, 0.02])\n",
    "\n",
    "plt.legend(loc='upper right', fontsize=fs)\n",
    "\n",
    "ax.annotate(\"fundamental resonance\",\n",
    "            xy=(0.04, 0.88), xycoords='figure fraction',\n",
    "            bbox=dict(boxstyle=\"square\", facecolor=\"0.8\", edgecolor='k'),\n",
    "            fontsize=fs,\n",
    "           )\n",
    "\n",
    "for item in ([ax.title, ax.xaxis.label, ax.yaxis.label] +\n",
    "         ax.get_xticklabels() + ax.get_yticklabels()):\n",
    "    item.set_fontsize(fs)\n",
    "plt.savefig('test.pdf', bbox_inches='tight')"
   ]
  }
 ],
 "metadata": {
  "kernelspec": {
   "display_name": "Python 3 (ipykernel)",
   "language": "python",
   "name": "python3"
  },
  "language_info": {
   "codemirror_mode": {
    "name": "ipython",
    "version": 3
   },
   "file_extension": ".py",
   "mimetype": "text/x-python",
   "name": "python",
   "nbconvert_exporter": "python",
   "pygments_lexer": "ipython3",
   "version": "3.9.5"
  }
 },
 "nbformat": 4,
 "nbformat_minor": 5
}
